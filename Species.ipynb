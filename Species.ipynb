{
 "cells": [
  {
   "cell_type": "code",
   "execution_count": 1,
   "id": "bd58beef-28a5-4caf-a9e8-633bc9ecbbd7",
   "metadata": {},
   "outputs": [],
   "source": [
    "from sage.all import *\n",
    "from IPython.display import Math"
   ]
  },
  {
   "cell_type": "markdown",
   "id": "fb45bcf1-9b8f-4106-8731-46ac7e3c9444",
   "metadata": {},
   "source": [
    "### Unit\n",
    "$$Unit(z) = 1$$"
   ]
  },
  {
   "cell_type": "code",
   "execution_count": 2,
   "id": "174faa09-81f8-434a-8403-6a82d3bcf0b5",
   "metadata": {},
   "outputs": [
    {
     "data": {
      "text/latex": [
       "$\\displaystyle Unit(z) = 1$"
      ],
      "text/plain": [
       "<IPython.core.display.Math object>"
      ]
     },
     "execution_count": 2,
     "metadata": {},
     "output_type": "execute_result"
    }
   ],
   "source": [
    "Unit = species.CharacteristicSpecies(0)\n",
    "Math('Unit(z) = ' + latex(Unit.generating_series()))"
   ]
  },
  {
   "cell_type": "markdown",
   "id": "25135f56-d877-4471-910f-f6063e233848",
   "metadata": {},
   "source": [
    "### Singleton\n",
    "$$Z(z) = z$$"
   ]
  },
  {
   "cell_type": "code",
   "execution_count": 3,
   "id": "f8915044-fa10-48dc-a710-37bc1c301021",
   "metadata": {},
   "outputs": [
    {
     "data": {
      "text/latex": [
       "$\\displaystyle Z(z) = z$"
      ],
      "text/plain": [
       "<IPython.core.display.Math object>"
      ]
     },
     "execution_count": 3,
     "metadata": {},
     "output_type": "execute_result"
    }
   ],
   "source": [
    "Z = species.CharacteristicSpecies(1)\n",
    "Math('Z(z) = ' + latex(Z.generating_series()))"
   ]
  },
  {
   "cell_type": "markdown",
   "id": "20a23f83-44c6-4563-ac83-4fa651d91c2e",
   "metadata": {},
   "source": [
    "### List\n",
    "$$List = Unit + Z \\times List$$\n",
    "$$List(z) = 1 + z + z^2 + z^3 + z^4 + z^5 + z^6 + \\cdots$$"
   ]
  },
  {
   "cell_type": "code",
   "execution_count": 4,
   "id": "41a7adcd-ad07-4c07-9509-162dc71df2b6",
   "metadata": {},
   "outputs": [
    {
     "data": {
      "text/latex": [
       "$\\displaystyle List(z) = 1 + z + z^{2} + z^{3} + z^{4} + z^{5} + z^{6} + O(z^7)$"
      ],
      "text/plain": [
       "<IPython.core.display.Math object>"
      ]
     },
     "execution_count": 4,
     "metadata": {},
     "output_type": "execute_result"
    }
   ],
   "source": [
    "List = species.CombinatorialSpecies()\n",
    "List.define(Unit + Z * List)\n",
    "Math('List(z) = ' + latex(List.generating_series()))"
   ]
  },
  {
   "cell_type": "markdown",
   "id": "bfa29e47-f441-4120-82f8-8104c4de992b",
   "metadata": {},
   "source": [
    "### List of singletons or pairs\n",
    "$$Fib = List(Z + Z \\times Z)$$\n",
    "$$Fib(z) = 1 + z + 2z^2 + 3z^3 + 5z^4 + 8z^5 + 13z^6 + \\cdots$$"
   ]
  },
  {
   "cell_type": "code",
   "execution_count": 5,
   "id": "21842e89-7643-47cc-becc-e18cc61dbf15",
   "metadata": {},
   "outputs": [
    {
     "data": {
      "text/latex": [
       "$\\displaystyle Fib(z) = 1 + z + 2 z^{2} + 3 z^{3} + 5 z^{4} + 8 z^{5} + 13 z^{6} + O(z^7)$"
      ],
      "text/plain": [
       "<IPython.core.display.Math object>"
      ]
     },
     "execution_count": 5,
     "metadata": {},
     "output_type": "execute_result"
    }
   ],
   "source": [
    "Fib = species.CombinatorialSpecies()\n",
    "Fib.define(List(Z + Z * Z))\n",
    "Math('Fib(z) = ' + latex(Fib.generating_series()))"
   ]
  },
  {
   "cell_type": "markdown",
   "id": "3d590c41-db7a-47f3-9116-01d1f41b06dc",
   "metadata": {},
   "source": [
    "### Binary tree (data on branches)\n",
    "$$BinTreeB = Unit + Z \\times BinTreeB \\times BinTreeB$$\n",
    "$$BinTreeB(z) = 1 + z + 2z^2 + 5z^3 + 14z^4 + 42z^5 + 132z^6 + \\cdots$$"
   ]
  },
  {
   "cell_type": "code",
   "execution_count": 6,
   "id": "8bc3620d-6e6f-4933-8460-9a762c9d28a3",
   "metadata": {},
   "outputs": [
    {
     "data": {
      "text/latex": [
       "$\\displaystyle BinTreeB(z) = 1 + z + 2 z^{2} + 5 z^{3} + 14 z^{4} + 42 z^{5} + 132 z^{6} + O(z^7)$"
      ],
      "text/plain": [
       "<IPython.core.display.Math object>"
      ]
     },
     "execution_count": 6,
     "metadata": {},
     "output_type": "execute_result"
    }
   ],
   "source": [
    "BinTreeB = species.CombinatorialSpecies()\n",
    "BinTreeB.define(Unit + Z * BinTreeB * BinTreeB)\n",
    "Math('BinTreeB(z) = ' + latex(BinTreeB.generating_series()))"
   ]
  },
  {
   "cell_type": "markdown",
   "id": "d0783fd1-b71e-4530-af71-529e1ad24ac7",
   "metadata": {},
   "source": [
    "### Binary tree (data on leafs)\n",
    "$$BinTree = Z + BinTree \\times BinTree$$\n",
    "$$BinTree(z) = z + z^2 + 2z^3 + 5z^4 + 14z^5 + 42z^6 + 132z^7 + \\cdots$$"
   ]
  },
  {
   "cell_type": "code",
   "execution_count": 7,
   "id": "b65cbd6d-0d56-4b16-a6b1-63ef13cd92e2",
   "metadata": {},
   "outputs": [
    {
     "data": {
      "text/latex": [
       "$\\displaystyle BinTree(z) = z + z^{2} + 2 z^{3} + 5 z^{4} + 14 z^{5} + 42 z^{6} + 132 z^{7} + O(z^8)$"
      ],
      "text/plain": [
       "<IPython.core.display.Math object>"
      ]
     },
     "execution_count": 7,
     "metadata": {},
     "output_type": "execute_result"
    }
   ],
   "source": [
    "BinTree = species.CombinatorialSpecies(min=1)\n",
    "BinTree.define(Z + BinTree * BinTree)\n",
    "Math('BinTree(z) = ' + latex(BinTree.generating_series()))"
   ]
  },
  {
   "cell_type": "markdown",
   "id": "22cda404-125e-4201-baba-dfb5e38fbf41",
   "metadata": {},
   "source": [
    "### Rose tree\n",
    "$$RoseTree = Z \\times List(R)$$\n",
    "$$RoseTree(z) = z + z^2 + 2z^3 + 5z^4 + 14z^5 + 42z^6 + 132z^7 + \\cdots$$"
   ]
  },
  {
   "cell_type": "code",
   "execution_count": 8,
   "id": "6490d384-6210-45e3-9e8a-75783b6381fb",
   "metadata": {},
   "outputs": [
    {
     "data": {
      "text/latex": [
       "$\\displaystyle RoseTree(z) = z + z^{2} + 2 z^{3} + 5 z^{4} + 14 z^{5} + 42 z^{6} + 132 z^{7} + O(z^8)$"
      ],
      "text/plain": [
       "<IPython.core.display.Math object>"
      ]
     },
     "execution_count": 8,
     "metadata": {},
     "output_type": "execute_result"
    }
   ],
   "source": [
    "RoseTree = species.CombinatorialSpecies(min=1)\n",
    "RoseTree.define(Z * List(RoseTree))\n",
    "Math('RoseTree(z) = ' + latex(RoseTree.generating_series()))"
   ]
  },
  {
   "cell_type": "code",
   "execution_count": null,
   "id": "60886c35-efbe-4700-966c-2a44b0477899",
   "metadata": {},
   "outputs": [],
   "source": []
  }
 ],
 "metadata": {
  "kernelspec": {
   "display_name": "Python 3 (ipykernel)",
   "language": "python",
   "name": "python3"
  },
  "language_info": {
   "codemirror_mode": {
    "name": "ipython",
    "version": 3
   },
   "file_extension": ".py",
   "mimetype": "text/x-python",
   "name": "python",
   "nbconvert_exporter": "python",
   "pygments_lexer": "ipython3",
   "version": "3.11.8"
  }
 },
 "nbformat": 4,
 "nbformat_minor": 5
}
