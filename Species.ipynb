{
 "cells": [
  {
   "cell_type": "code",
   "execution_count": 1,
   "id": "64af349c-593a-4014-a90a-9b5c2da22935",
   "metadata": {},
   "outputs": [],
   "source": [
    "from sage.all import *"
   ]
  },
  {
   "cell_type": "markdown",
   "id": "fb45bcf1-9b8f-4106-8731-46ac7e3c9444",
   "metadata": {},
   "source": [
    "### Constant\n",
    "$$I(z) = 1$$"
   ]
  },
  {
   "cell_type": "code",
   "execution_count": 2,
   "id": "174faa09-81f8-434a-8403-6a82d3bcf0b5",
   "metadata": {},
   "outputs": [
    {
     "name": "stdout",
     "output_type": "stream",
     "text": [
      "I(z) = 1\n"
     ]
    }
   ],
   "source": [
    "I = species.CharacteristicSpecies(0)\n",
    "print('I(z) =', I.generating_series())"
   ]
  },
  {
   "cell_type": "markdown",
   "id": "25135f56-d877-4471-910f-f6063e233848",
   "metadata": {},
   "source": [
    "### Singleton\n",
    "$$Z(z) = z$$"
   ]
  },
  {
   "cell_type": "code",
   "execution_count": 3,
   "id": "f8915044-fa10-48dc-a710-37bc1c301021",
   "metadata": {},
   "outputs": [
    {
     "name": "stdout",
     "output_type": "stream",
     "text": [
      "Z(z) = z\n"
     ]
    }
   ],
   "source": [
    "Z = species.CharacteristicSpecies(1)\n",
    "print('Z(z) =', Z.generating_series())"
   ]
  },
  {
   "cell_type": "markdown",
   "id": "20a23f83-44c6-4563-ac83-4fa651d91c2e",
   "metadata": {},
   "source": [
    "### List\n",
    "$$L = I + Z * L$$\n",
    "$$L(z) = 1 + z + z^2 + z^3 + z^4 + z^5 + z^6 + ...$$"
   ]
  },
  {
   "cell_type": "code",
   "execution_count": 4,
   "id": "41a7adcd-ad07-4c07-9509-162dc71df2b6",
   "metadata": {},
   "outputs": [
    {
     "name": "stdout",
     "output_type": "stream",
     "text": [
      "L(z) = 1 + z + z^2 + z^3 + z^4 + z^5 + z^6 + O(z^7)\n"
     ]
    }
   ],
   "source": [
    "L = species.CombinatorialSpecies()\n",
    "L.define(I + Z*L)\n",
    "print('L(z) =', L.generating_series())"
   ]
  },
  {
   "cell_type": "markdown",
   "id": "bfa29e47-f441-4120-82f8-8104c4de992b",
   "metadata": {},
   "source": [
    "### List of singletons or pairs (Fibonacci list?)\n",
    "$$F = L(Z + Z*Z)$$\n",
    "$$F(z) = 1 + z + 2*z^2 + 3*z^3 + 5*z^4 + 8*z^5 + 13*z^6 + ...$$"
   ]
  },
  {
   "cell_type": "code",
   "execution_count": 5,
   "id": "21842e89-7643-47cc-becc-e18cc61dbf15",
   "metadata": {},
   "outputs": [
    {
     "name": "stdout",
     "output_type": "stream",
     "text": [
      "F(z) = 1 + z + 2*z^2 + 3*z^3 + 5*z^4 + 8*z^5 + 13*z^6 + O(z^7)\n"
     ]
    }
   ],
   "source": [
    "F = species.CombinatorialSpecies()\n",
    "F.define(L(Z + Z**2))\n",
    "print('F(z) =', F.generating_series())"
   ]
  },
  {
   "cell_type": "markdown",
   "id": "3d590c41-db7a-47f3-9116-01d1f41b06dc",
   "metadata": {},
   "source": [
    "### Binary tree (data on branches)\n",
    "$$B2 = I + Z * B2 * B2$$\n",
    "$$B2(z) = 1 + z + 2*z^2 + 5*z^3 + 14*z^4 + 42*z^5 + 132*z^6 + ...$$"
   ]
  },
  {
   "cell_type": "code",
   "execution_count": 6,
   "id": "8bc3620d-6e6f-4933-8460-9a762c9d28a3",
   "metadata": {},
   "outputs": [
    {
     "name": "stdout",
     "output_type": "stream",
     "text": [
      "B2(z) = 1 + z + 2*z^2 + 5*z^3 + 14*z^4 + 42*z^5 + 132*z^6 + O(z^7)\n"
     ]
    }
   ],
   "source": [
    "B2 = species.CombinatorialSpecies()\n",
    "B2.define(I + Z*B2*B2)\n",
    "print('B2(z) =', B2.generating_series())"
   ]
  },
  {
   "cell_type": "markdown",
   "id": "d0783fd1-b71e-4530-af71-529e1ad24ac7",
   "metadata": {},
   "source": [
    "### Binary tree (data on leafs)\n",
    "$$B = Z + B * B$$\n",
    "$$B(z) = z + z^2 + 2*z^3 + 5*z^4 + 14*z^5 + 42*z^6 + 132*z^7 + ...$$"
   ]
  },
  {
   "cell_type": "code",
   "execution_count": 7,
   "id": "b65cbd6d-0d56-4b16-a6b1-63ef13cd92e2",
   "metadata": {},
   "outputs": [
    {
     "name": "stdout",
     "output_type": "stream",
     "text": [
      "B(z) = z + z^2 + 2*z^3 + 5*z^4 + 14*z^5 + 42*z^6 + 132*z^7 + O(z^8)\n"
     ]
    }
   ],
   "source": [
    "B = species.CombinatorialSpecies(min=1)\n",
    "B.define(Z + B*B)\n",
    "print('B(z) =', B.generating_series())"
   ]
  },
  {
   "cell_type": "markdown",
   "id": "22cda404-125e-4201-baba-dfb5e38fbf41",
   "metadata": {},
   "source": [
    "### Rose tree\n",
    "$$R = Z * L(R)$$\n",
    "$$R(z) = z + z^2 + 2*z^3 + 5*z^4 + 14*z^5 + 42*z^6 + 132*z^7 + ...$$"
   ]
  },
  {
   "cell_type": "code",
   "execution_count": 8,
   "id": "6490d384-6210-45e3-9e8a-75783b6381fb",
   "metadata": {},
   "outputs": [
    {
     "name": "stdout",
     "output_type": "stream",
     "text": [
      "R(z) = z + z^2 + 2*z^3 + 5*z^4 + 14*z^5 + 42*z^6 + 132*z^7 + O(z^8)\n"
     ]
    }
   ],
   "source": [
    "R = species.CombinatorialSpecies(min=1)\n",
    "R.define(Z * L(R))\n",
    "print('R(z) =', R.generating_series())"
   ]
  }
 ],
 "metadata": {
  "kernelspec": {
   "display_name": "Python 3 (ipykernel)",
   "language": "python",
   "name": "python3"
  },
  "language_info": {
   "codemirror_mode": {
    "name": "ipython",
    "version": 3
   },
   "file_extension": ".py",
   "mimetype": "text/x-python",
   "name": "python",
   "nbconvert_exporter": "python",
   "pygments_lexer": "ipython3",
   "version": "3.11.8"
  }
 },
 "nbformat": 4,
 "nbformat_minor": 5
}
